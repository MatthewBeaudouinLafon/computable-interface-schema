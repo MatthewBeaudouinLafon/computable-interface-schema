{
 "cells": [
  {
   "cell_type": "markdown",
   "metadata": {},
   "source": [
    "# Metaphor algorithm\n",
    "\n",
    "1. Parse file and list objects & mapto implied by subsets, common structures/covers\n",
    "2. Match structures  \n",
    "    a. Match types (how to deal with mappable ones? eg. segment->linear)  \n",
    "    b. Match affected and covers\n",
    "3. Match representations (keeping the structure consistent)\n",
    "\n"
   ]
  },
  {
   "cell_type": "code",
   "execution_count": 107,
   "metadata": {},
   "outputs": [],
   "source": [
    "import yaml\n",
    "from pprint import pprint"
   ]
  },
  {
   "cell_type": "code",
   "execution_count": 110,
   "metadata": {},
   "outputs": [],
   "source": [
    "file = 'video-editor.yaml'\n",
    "with open(file, 'r') as file_handle:\n",
    "  ex_spec = yaml.safe_load(file_handle)"
   ]
  },
  {
   "cell_type": "code",
   "execution_count": null,
   "metadata": {},
   "outputs": [],
   "source": [
    "def process_listable(target, func):\n",
    "  if target is None:\n",
    "    return\n",
    "\n",
    "  if type(target) == list:\n",
    "    for target_item in target:\n",
    "      func(target_item)\n",
    "  else:\n",
    "    func(target)"
   ]
  },
  {
   "cell_type": "markdown",
   "metadata": {},
   "source": [
    "## Parsing for objects"
   ]
  },
  {
   "cell_type": "code",
   "execution_count": null,
   "metadata": {},
   "outputs": [],
   "source": [
    "def register_object(objects, obj):\n",
    "  # -> means mapto\n",
    "  # . means subset\n",
    "  # / means component  # TODO: actually do this!!\n",
    "  assert(type(obj) is str)\n",
    "\n",
    "  arrow_array = obj.split('->')\n",
    "  for arrow_idx, arrow_term in enumerate(arrow_array):\n",
    "    dot_array = arrow_term.split('.')\n",
    "    \n",
    "    for dot_idx, dot_term in enumerate(dot_array):\n",
    "      subject = '.'.join(dot_array[:dot_idx + 1]) # join up to idx\n",
    "      objects[subject] = set()\n",
    "      \n",
    "      if dot_idx > 0:\n",
    "        # every sequence maps to the previous element eg. a.b.c => {a.b.c: {a.b}, a.b: {a}}\n",
    "        previous = '.'.join(dot_array[:dot_idx])\n",
    "        objects[subject].add(previous)\n",
    "    \n",
    "    if arrow_idx > 0:\n",
    "      # a pair of arrows lhs->rhs => {lhs: {rhs}}\n",
    "      lhs = objects[arrow_array[arrow_idx - 1]]\n",
    "      rhs = arrow_array[arrow_idx]\n",
    "      lhs.add(rhs)"
   ]
  },
  {
   "cell_type": "code",
   "execution_count": null,
   "metadata": {},
   "outputs": [
    {
     "name": "stdout",
     "output_type": "stream",
     "text": [
      "testing: a\n",
      "expected:\n",
      "{'a': set()}\n",
      "got:\n",
      "{'a': set()}\n",
      "\n",
      "testing: a.b.c\n",
      "expected:\n",
      "{'a': set(), 'a.b': {'a'}, 'a.b.c': {'a.b'}}\n",
      "got:\n",
      "{'a': set(), 'a.b': {'a'}, 'a.b.c': {'a.b'}}\n",
      "\n",
      "testing: a->b->c\n",
      "expected:\n",
      "{'a': {'b'}, 'b': {'c'}, 'c': set()}\n",
      "got:\n",
      "{'a': {'b'}, 'b': {'c'}, 'c': set()}\n",
      "\n",
      "testing: a.b->x->z.w\n",
      "expected:\n",
      "{'a': set(), 'a.b': {'x', 'a'}, 'x': {'z.w'}, 'z': set(), 'z.w': {'z'}}\n",
      "got:\n",
      "{'a': set(), 'a.b': {'x', 'a'}, 'x': {'z.w'}, 'z': set(), 'z.w': {'z'}}\n"
     ]
    }
   ],
   "source": [
    "# Tests\n",
    "print('testing: a')\n",
    "test = {}\n",
    "print('expected:')\n",
    "pprint({'a': set()})\n",
    "print('got:')\n",
    "register_object(test, 'a')\n",
    "pprint(test)\n",
    "\n",
    "print()\n",
    "\n",
    "print('testing: a.b.c')\n",
    "test = {}\n",
    "print('expected:')\n",
    "pprint({'a': set(), 'a.b': {'a'}, 'a.b.c': {'a.b'}})\n",
    "print('got:')\n",
    "register_object(test, 'a.b.c')\n",
    "pprint(test)\n",
    "\n",
    "print()\n",
    "\n",
    "print('testing: a->b->c')\n",
    "test = {}\n",
    "print('expected:')\n",
    "pprint({'a': {'b'}, 'b': {'c'}, 'c': set()})\n",
    "print('got:')\n",
    "register_object(test, 'a->b->c')\n",
    "pprint(test)\n",
    "\n",
    "print()\n",
    "\n",
    "print('testing: a.b->x->z.w')\n",
    "\n",
    "test = {}\n",
    "register_object(test, 'a.b->x->z.w')\n",
    "print('expected:')\n",
    "print({'a': set(), 'a.b': {'x', 'a'}, 'x': {'z.w'}, 'z': set(), 'z.w': {'z'}})\n",
    "print('got:')\n",
    "pprint(test)\n"
   ]
  },
  {
   "cell_type": "code",
   "execution_count": null,
   "metadata": {},
   "outputs": [],
   "source": [
    "def register_struct_objects(struct, objects, process_func):\n",
    "  if struct.get('type') == 'group':\n",
    "    # Groups also behave as objects, so register them\n",
    "    name = struct.get('name')\n",
    "    if name is None:\n",
    "      print('Warning! No name provided for group. Using `NO NAME PROVIDED` instead. TODO: generate ID.')\n",
    "      name = 'NO NAME PROVIDED'\n",
    "\n",
    "    if objects.get(name) is None:\n",
    "      objects[name] = set()\n",
    "    \n",
    "    # TODO: do groups map to their elements? Really, does the transitive property apply? My hunch is no, but need to think more\n",
    "\n",
    "  process_listable(struct.get('affects'), process_func)\n",
    "  process_listable(struct.get('covered-by'), process_func)\n",
    "  # TODO: relate all of the objects affected/covered by a structure. \n",
    "\n",
    "  for derivative in struct.get('derivatives', []):\n",
    "    register_struct_objects(derivative, objects=objects, process_func=process_func)\n",
    "\n",
    "\n",
    "def register_repr_objects(repr, objects, process_func):\n",
    "  for repr_obj in repr.get('objects', []):\n",
    "    assert(len(repr_obj.values()) == 1)\n",
    "    target_objs = list(repr_obj.values())[0]\n",
    "    process_listable(target_objs, process_func)\n",
    "\n",
    "\n",
    "def register_spec_objects(spec, objects={}): # {object: [mapto-targets]}\n",
    "  # TODO: deal with `objects` block\n",
    "  def register_object_here(target):\n",
    "    register_object(objects, target)\n",
    "\n",
    "  for struct in spec.get('structures', []):\n",
    "    register_struct_objects(struct, objects, register_object_here)\n",
    "    \n",
    "  for repr in spec.get('representations', []):\n",
    "    register_repr_objects(repr, objects, register_object_here)\n",
    "  \n",
    "  return objects"
   ]
  },
  {
   "cell_type": "code",
   "execution_count": null,
   "metadata": {},
   "outputs": [
    {
     "name": "stdout",
     "output_type": "stream",
     "text": [
      "{'playhead': {'videos.in-editor/images'},\n",
      " 'timestamps': set(),\n",
      " 'tracks': set(),\n",
      " 'videos': set(),\n",
      " 'videos.first-frame': {'videos'},\n",
      " 'videos.in-editor': {'videos'},\n",
      " 'videos.in-editor/images': {'videos'}}\n"
     ]
    }
   ],
   "source": [
    "pprint(register_spec_objects(ex_spec))"
   ]
  },
  {
   "cell_type": "markdown",
   "metadata": {},
   "source": [
    "## Register types"
   ]
  }
 ],
 "metadata": {
  "kernelspec": {
   "display_name": "venv",
   "language": "python",
   "name": "python3"
  },
  "language_info": {
   "codemirror_mode": {
    "name": "ipython",
    "version": 3
   },
   "file_extension": ".py",
   "mimetype": "text/x-python",
   "name": "python",
   "nbconvert_exporter": "python",
   "pygments_lexer": "ipython3",
   "version": "3.11.6"
  }
 },
 "nbformat": 4,
 "nbformat_minor": 2
}
