{
 "cells": [
  {
   "cell_type": "markdown",
   "metadata": {},
   "source": [
    "# Metaphor Algorith (for v4.8)\n",
    "\n",
    "\n",
    "1. Preprocess yaml\n",
    " - mapfrom -> mapto in the right location\n",
    " - contains -> mapto superset\n",
    "\n",
    "2. Find overlaps\n",
    "\n",
    "3. Suggest transfers"
   ]
  },
  {
   "cell_type": "code",
   "execution_count": null,
   "metadata": {},
   "outputs": [],
   "source": [
    "overlaps = [] # list of list of matching items\n",
    "sinister = open('simple-calendar.yaml')\n",
    "dextera = open('simple-video-editor.yaml')\n",
    "\n",
    "# overlap = {\n",
    "#     'sets': [\n",
    "#         {\n",
    "#             'id': int,\n",
    "#             'name': (sinister_name, dexter_name),\n",
    "#             'type': comp\n",
    "#             'mapto': id\n",
    "#             'contains':  # need to think about how to match. Maybe interpret them as mapfrom?\n",
    "#               - id\n",
    "#         }\n",
    "#     ]\n",
    "# }"
   ]
  },
  {
   "cell_type": "code",
   "execution_count": null,
   "metadata": {},
   "outputs": [],
   "source": [
    "# Example overlap for "
   ]
  },
  {
   "cell_type": "code",
   "execution_count": null,
   "metadata": {},
   "outputs": [],
   "source": [
    "# Helper functions\n",
    "\n",
    "def nav_to_node(node_name):\n",
    "    pass"
   ]
  },
  {
   "cell_type": "markdown",
   "metadata": {},
   "source": [
    "## 1. Preprocess"
   ]
  },
  {
   "cell_type": "code",
   "execution_count": null,
   "metadata": {},
   "outputs": [],
   "source": []
  }
 ],
 "metadata": {
  "kernelspec": {
   "display_name": "venv",
   "language": "python",
   "name": "python3"
  },
  "language_info": {
   "codemirror_mode": {
    "name": "ipython",
    "version": 3
   },
   "file_extension": ".py",
   "mimetype": "text/x-python",
   "name": "python",
   "nbconvert_exporter": "python",
   "pygments_lexer": "ipython3",
   "version": "3.11.6"
  }
 },
 "nbformat": 4,
 "nbformat_minor": 2
}
