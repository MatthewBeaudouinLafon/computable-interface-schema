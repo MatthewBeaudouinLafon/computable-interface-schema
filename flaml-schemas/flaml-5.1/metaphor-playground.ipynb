{
 "cells": [
  {
   "cell_type": "code",
   "execution_count": 198,
   "id": "177d7a75",
   "metadata": {},
   "outputs": [],
   "source": [
    "import sys\n",
    "sys.path.insert(1, '../../public/python-lib')  # add import path for metalgo"
   ]
  },
  {
   "cell_type": "code",
   "execution_count": 199,
   "id": "7004c86e",
   "metadata": {},
   "outputs": [],
   "source": [
    "import importlib\n",
    "import metalgo\n",
    "import datetime\n",
    "import pprint"
   ]
  },
  {
   "cell_type": "code",
   "execution_count": 200,
   "id": "683454e6",
   "metadata": {},
   "outputs": [],
   "source": [
    "# NOTE: Test with \n",
    "# pytest flaml-schemas/flaml-5.1/tests.py"
   ]
  },
  {
   "cell_type": "code",
   "execution_count": 201,
   "id": "06ccb9c3",
   "metadata": {},
   "outputs": [
    {
     "name": "stdout",
     "output_type": "stream",
     "text": [
      "reloaded at:\n",
      "2025-06-17 16:23:51\n"
     ]
    }
   ],
   "source": [
    "importlib.reload(metalgo)\n",
    "print('reloaded at:')\n",
    "print(datetime.datetime.now().strftime(\"%Y-%m-%d %H:%M:%S\"))"
   ]
  },
  {
   "cell_type": "code",
   "execution_count": 202,
   "id": "e698a811",
   "metadata": {},
   "outputs": [],
   "source": [
    "calendar_graph = metalgo.make_graph(metalgo.parse_spec('calendar.yaml'))\n",
    "# metalgo.metrics(calendar_graph)"
   ]
  },
  {
   "cell_type": "code",
   "execution_count": 203,
   "id": "934a31f8",
   "metadata": {},
   "outputs": [],
   "source": [
    "veditor_graph = metalgo.make_graph(metalgo.parse_spec('video-editor.yaml'))\n",
    "# metalgo.metrics(veditor_graph)"
   ]
  },
  {
   "cell_type": "code",
   "execution_count": 204,
   "id": "a4f10713",
   "metadata": {},
   "outputs": [
    {
     "name": "stdout",
     "output_type": "stream",
     "text": [
      "\n",
      "\n",
      "-- cost: 42.0\n",
      "- nodes\n",
      "timestamps.now = videos\n",
      "days.selected = playhead\n",
      "events = videos.in-editor/images\n",
      "days = timestamps\n",
      "days.selected->events = playhead->videos.in-editor/images\n",
      "rects = vlines\n",
      "day-view = videos/first-frame\n",
      "regions = regions\n",
      "nav-week = videos.in-editor.selected\n",
      "icons = rects\n",
      "events.selected = videos.in-editor\n",
      "time = tracks\n",
      "day-order = editor-timeline\n",
      "\n",
      "- edges\n",
      "days.selected ~ events = playhead ~ videos.in-editor/images\n",
      "days.selected ~ days = playhead ~ timestamps\n",
      "day-view ~ regions = videos/first-frame ~ regions\n",
      "nav-week ~ icons = videos.in-editor.selected ~ rects\n",
      "day-order ~ days = editor-timeline ~ timestamps\n"
     ]
    }
   ],
   "source": [
    "analogy, cost = metalgo.compute_analogy(calendar_graph, veditor_graph, timeout=0.5*60, verbose=True)"
   ]
  },
  {
   "cell_type": "code",
   "execution_count": null,
   "id": "9d52c1db",
   "metadata": {},
   "outputs": [
    {
     "name": "stdout",
     "output_type": "stream",
     "text": [
      ">>> nodeid: timestamps.now\n",
      ">>> nodeid: days.selected\n",
      ">>> nodeid: events\n",
      ">>> nodeid: days\n",
      ">>> nodeid: days.selected->events\n",
      ">>> nodeid: rects\n",
      ">>> nodeid: day-view\n",
      ">>> nodeid: regions\n",
      ">>> nodeid: nav-week\n",
      ">>> nodeid: icons\n",
      ">>> nodeid: events.selected\n",
      ">>> nodeid: time\n",
      ">>> nodeid: day-order\n",
      "flowchart LR\n",
      "  classDef AnalogousNode fill:#fbcef6,stroke:#8353e4;\n",
      "\n",
      "  0[timestamps]\n",
      "  1[hlines]\n",
      "  2[timestamps.now]:::AnalogousNode \n",
      "  3[days.selected]:::AnalogousNode \n",
      "  4[events]:::AnalogousNode \n",
      "  5[days]:::AnalogousNode \n",
      "  6[days.selected->events]:::AnalogousNode \n",
      "  7[rects]:::AnalogousNode \n",
      "  8[day-view]:::AnalogousNode \n",
      "  9[regions]:::AnalogousNode \n",
      "  10[nav-week]:::AnalogousNode \n",
      "  11[icons]:::AnalogousNode \n",
      "  12[events.selected]:::AnalogousNode \n",
      "  13[weeks.selected]\n",
      "  14[weeks]\n",
      "  15{time}:::AnalogousNode \n",
      "  16{day-order}:::AnalogousNode \n",
      "  0 -->|mapto| 1\n",
      "  2 -->|mapto| 0\n",
      "  2 -->|mapto| 1\n",
      "  3 -->|mapto| 4\n",
      "  3 -->|mapto| 5\n",
      "  4 -->|covers| 15\n",
      "  5 -->|covers| 15\n",
      "  6 -->|mapto| 7\n",
      "  8 -->|mapto| 9\n",
      "  10 -->|mapto| 11\n",
      "  12 -->|mapto| 4\n",
      "  13 -->|mapto| 14\n",
      "  14 -->|covers| 15\n",
      "  15 -->|affects| 0\n",
      "  15 -->|affects| 1\n",
      "  16 -->|affects| 5\n",
      "\n",
      "\n",
      "flowchart LR\n",
      "  classDef AnalogousNode fill:#fbcef6,stroke:#8353e4;\n",
      "\n",
      "  0[videos.in-editor]\n",
      "  1[videos]\n",
      "  2[rects]\n",
      "  3[playhead]\n",
      "  4[videos.in-editor/images]\n",
      "  5[timestamps]\n",
      "  6[vlines]\n",
      "  7{tracks}\n",
      "  8[regions]\n",
      "  9[playhead->videos.in-editor/images]\n",
      "  10[videos/first-frame]\n",
      "  11[videos.in-editor.selected]\n",
      "  12{editor-timeline}\n",
      "  13{alphabetical}\n",
      "  0 -->|mapto| 1\n",
      "  0 -->|mapto| 2\n",
      "  0 -->|covers| 12\n",
      "  3 -->|mapto| 4\n",
      "  3 -->|mapto| 5\n",
      "  3 -->|mapto| 6\n",
      "  3 -->|mapto| 0\n",
      "  3 -->|mapto| 1\n",
      "  3 -->|mapto| 2\n",
      "  4 -->|mapto| 0\n",
      "  4 -->|mapto| 1\n",
      "  4 -->|mapto| 2\n",
      "  5 -->|mapto| 6\n",
      "  7 -->|mapto| 8\n",
      "  7 -->|affects| 0\n",
      "  7 -->|affects| 1\n",
      "  7 -->|affects| 2\n",
      "  9 -->|mapto| 2\n",
      "  10 -->|mapto| 1\n",
      "  10 -->|mapto| 8\n",
      "  11 -->|mapto| 0\n",
      "  11 -->|mapto| 1\n",
      "  11 -->|mapto| 2\n",
      "  12 -->|affects| 5\n",
      "  12 -->|affects| 6\n",
      "  12 -->|affects| 3\n",
      "  12 -->|affects| 4\n",
      "  12 -->|affects| 0\n",
      "  12 -->|affects| 1\n",
      "  12 -->|affects| 2\n",
      "  13 -->|affects| 1\n",
      "\n"
     ]
    }
   ],
   "source": [
    "print(metalgo.mermaid_graph(metalgo.parse_spec('calendar.yaml'), analogy, analogy_side=\"sinister\"))\n",
    "print()\n",
    "print(metalgo.mermaid_graph(metalgo.parse_spec('video-editor.yaml'), analogy, analogy_side=\"dexter\"))"
   ]
  },
  {
   "cell_type": "code",
   "execution_count": null,
   "id": "e3986523",
   "metadata": {},
   "outputs": [],
   "source": []
  }
 ],
 "metadata": {
  "kernelspec": {
   "display_name": "venv",
   "language": "python",
   "name": "python3"
  },
  "language_info": {
   "codemirror_mode": {
    "name": "ipython",
    "version": 3
   },
   "file_extension": ".py",
   "mimetype": "text/x-python",
   "name": "python",
   "nbconvert_exporter": "python",
   "pygments_lexer": "ipython3",
   "version": "3.11.6"
  }
 },
 "nbformat": 4,
 "nbformat_minor": 5
}
