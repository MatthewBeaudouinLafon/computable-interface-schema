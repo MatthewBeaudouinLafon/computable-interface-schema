{
 "cells": [
  {
   "cell_type": "code",
   "execution_count": 131,
   "id": "177d7a75",
   "metadata": {},
   "outputs": [],
   "source": [
    "import sys\n",
    "sys.path.insert(1, '../../public/python-lib')  # add import path for metalgo"
   ]
  },
  {
   "cell_type": "code",
   "execution_count": 132,
   "id": "7004c86e",
   "metadata": {},
   "outputs": [],
   "source": [
    "import importlib\n",
    "import metalgo\n",
    "import datetime\n",
    "import pprint"
   ]
  },
  {
   "cell_type": "code",
   "execution_count": 133,
   "id": "683454e6",
   "metadata": {},
   "outputs": [],
   "source": [
    "# NOTE: Test with \n",
    "# pytest flaml-schemas/flaml-5.1/tests.py"
   ]
  },
  {
   "cell_type": "code",
   "execution_count": 134,
   "id": "06ccb9c3",
   "metadata": {},
   "outputs": [
    {
     "name": "stdout",
     "output_type": "stream",
     "text": [
      "reloaded at:\n",
      "2025-06-17 10:59:06\n"
     ]
    }
   ],
   "source": [
    "importlib.reload(metalgo)\n",
    "print('reloaded at:')\n",
    "print(datetime.datetime.now().strftime(\"%Y-%m-%d %H:%M:%S\"))"
   ]
  },
  {
   "cell_type": "code",
   "execution_count": 135,
   "id": "e698a811",
   "metadata": {},
   "outputs": [],
   "source": [
    "calendar_graph = metalgo.make_graph(metalgo.parse_spec('calendar.yaml'))\n",
    "# metalgo.metrics(calendar_graph)"
   ]
  },
  {
   "cell_type": "code",
   "execution_count": 136,
   "id": "934a31f8",
   "metadata": {},
   "outputs": [],
   "source": [
    "veditor_graph = metalgo.make_graph(metalgo.parse_spec('video-editor.yaml'))\n",
    "# metalgo.metrics(veditor_graph)"
   ]
  },
  {
   "cell_type": "code",
   "execution_count": 137,
   "id": "a4f10713",
   "metadata": {},
   "outputs": [
    {
     "name": "stdout",
     "output_type": "stream",
     "text": [
      "\n",
      "\n",
      "-- cost: 42.0\n",
      "- nodes\n",
      "timestamps.now = videos\n",
      "days.selected = playhead\n",
      "events = videos.in-editor/images\n",
      "days = timestamps\n",
      "days.selected->events = playhead->videos.in-editor/images\n",
      "rects = vlines\n",
      "day-view = videos/first-frame\n",
      "regions = regions\n",
      "nav-week = videos.in-editor.selected\n",
      "icons = rects\n",
      "events.selected = videos.in-editor\n",
      "time = tracks\n",
      "day-order = editor-timeline\n",
      "\n",
      "- edges\n",
      "days.selected ~ events = playhead ~ videos.in-editor/images\n",
      "days.selected ~ days = playhead ~ timestamps\n",
      "day-view ~ regions = videos/first-frame ~ regions\n",
      "nav-week ~ icons = videos.in-editor.selected ~ rects\n",
      "day-order ~ days = editor-timeline ~ timestamps\n"
     ]
    }
   ],
   "source": [
    "analogy, cost = metalgo.compute_analogy(calendar_graph, veditor_graph, timeout=0.5*60, verbose=True)"
   ]
  },
  {
   "cell_type": "code",
   "execution_count": null,
   "id": "9d52c1db",
   "metadata": {},
   "outputs": [],
   "source": []
  }
 ],
 "metadata": {
  "kernelspec": {
   "display_name": "venv",
   "language": "python",
   "name": "python3"
  },
  "language_info": {
   "codemirror_mode": {
    "name": "ipython",
    "version": 3
   },
   "file_extension": ".py",
   "mimetype": "text/x-python",
   "name": "python",
   "nbconvert_exporter": "python",
   "pygments_lexer": "ipython3",
   "version": "3.11.6"
  }
 },
 "nbformat": 4,
 "nbformat_minor": 5
}
