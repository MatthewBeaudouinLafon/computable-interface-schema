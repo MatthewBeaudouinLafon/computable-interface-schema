{
 "cells": [
  {
   "cell_type": "code",
   "execution_count": 7,
   "id": "7004c86e",
   "metadata": {},
   "outputs": [],
   "source": [
    "import importlib\n",
    "import metalgo\n",
    "import datetime"
   ]
  },
  {
   "cell_type": "code",
   "execution_count": 8,
   "id": "683454e6",
   "metadata": {},
   "outputs": [],
   "source": [
    "# NOTE: Test with \n",
    "# pytest flaml-schemas/flaml-5.1/tests.py"
   ]
  },
  {
   "cell_type": "code",
   "execution_count": 9,
   "id": "06ccb9c3",
   "metadata": {},
   "outputs": [
    {
     "name": "stdout",
     "output_type": "stream",
     "text": [
      "reloaded at:\n",
      "2025-05-06 10:28:26\n"
     ]
    }
   ],
   "source": [
    "importlib.reload(metalgo)\n",
    "print('reloaded at:')\n",
    "print(datetime.datetime.now().strftime(\"%Y-%m-%d %H:%M:%S\"))"
   ]
  },
  {
   "cell_type": "code",
   "execution_count": 10,
   "id": "e698a811",
   "metadata": {},
   "outputs": [],
   "source": [
    "calendar_graph = metalgo.make_graph('calendar.yaml')\n",
    "# metalgo.metrics(calendar_graph)"
   ]
  },
  {
   "cell_type": "code",
   "execution_count": 11,
   "id": "934a31f8",
   "metadata": {},
   "outputs": [],
   "source": [
    "veditor_graph = metalgo.make_graph('video-editor.yaml')\n",
    "# metalgo.metrics(veditor_graph)"
   ]
  },
  {
   "cell_type": "code",
   "execution_count": 12,
   "id": "a4f10713",
   "metadata": {},
   "outputs": [
    {
     "name": "stdout",
     "output_type": "stream",
     "text": [
      "\n",
      "\n",
      "-- cost: 59.0\n",
      "- nodes\n",
      "timestamps = videos.in-editor\n",
      "hlines = rects\n",
      "timestamps.now = videos\n",
      "days.selected = playhead\n",
      "days = videos.in-editor/images\n",
      "events = timestamps\n",
      "days.selected->events = playhead->videos.in-editor/images\n",
      "rects = vlines\n",
      "day-view = videos/first-frame\n",
      "regions = regions\n",
      "nav-week = videos.in-editor.selected\n",
      "icons = None\n",
      "events.selected = None\n",
      "weeks.selected = None\n",
      "weeks = None\n",
      "time = tracks\n",
      "week-order = editor-timeline\n",
      "None = alphabetical\n",
      "\n",
      "- edges\n",
      "timestamps ~ hlines = videos.in-editor ~ rects\n",
      "timestamps.now ~ timestamps = None\n",
      "timestamps.now ~ hlines = None\n",
      "None = videos.in-editor ~ videos\n",
      "None = playhead ~ videos.in-editor\n",
      "None = playhead ~ rects\n",
      "None = playhead ~ videos\n",
      "days.selected ~ days = playhead ~ videos.in-editor/images\n",
      "None = videos.in-editor/images ~ videos.in-editor\n",
      "None = videos.in-editor/images ~ rects\n",
      "None = videos.in-editor/images ~ videos\n",
      "days.selected ~ events = playhead ~ timestamps\n",
      "None = playhead->videos.in-editor/images ~ rects\n",
      "days.selected->events ~ rects = None\n",
      "None = playhead ~ vlines\n",
      "None = timestamps ~ vlines\n",
      "None = videos/first-frame ~ videos\n",
      "day-view ~ regions = videos/first-frame ~ regions\n",
      "None = videos.in-editor.selected ~ videos.in-editor\n",
      "None = videos.in-editor.selected ~ rects\n",
      "None = videos.in-editor.selected ~ videos\n",
      "nav-week ~ icons = None\n",
      "events.selected ~ events = None\n",
      "weeks.selected ~ weeks = None\n",
      "days ~ time = None\n",
      "events ~ time = None\n",
      "weeks ~ time = None\n",
      "time ~ timestamps = tracks ~ videos.in-editor\n",
      "time ~ hlines = tracks ~ rects\n",
      "None = tracks ~ regions\n",
      "None = tracks ~ videos\n",
      "week-order ~ weeks = None\n",
      "None = videos.in-editor ~ editor-timeline\n",
      "None = editor-timeline ~ timestamps\n",
      "None = editor-timeline ~ vlines\n",
      "None = editor-timeline ~ playhead\n",
      "None = editor-timeline ~ videos.in-editor/images\n",
      "None = editor-timeline ~ videos.in-editor\n",
      "None = editor-timeline ~ rects\n",
      "None = editor-timeline ~ videos\n",
      "None = alphabetical ~ videos\n"
     ]
    }
   ],
   "source": [
    "metalgo.compute_analogy(calendar_graph, veditor_graph, timeout=0.5*60)"
   ]
  },
  {
   "cell_type": "code",
   "execution_count": null,
   "id": "8d342579",
   "metadata": {},
   "outputs": [],
   "source": []
  }
 ],
 "metadata": {
  "kernelspec": {
   "display_name": "venv",
   "language": "python",
   "name": "python3"
  },
  "language_info": {
   "codemirror_mode": {
    "name": "ipython",
    "version": 3
   },
   "file_extension": ".py",
   "mimetype": "text/x-python",
   "name": "python",
   "nbconvert_exporter": "python",
   "pygments_lexer": "ipython3",
   "version": "3.11.6"
  }
 },
 "nbformat": 4,
 "nbformat_minor": 5
}
