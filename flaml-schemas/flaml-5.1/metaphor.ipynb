{
 "cells": [
  {
   "cell_type": "markdown",
   "metadata": {},
   "source": [
    "# Metaphor algorithm\n",
    "\n",
    "1. Parse file and list objects & mapto implied by subsets, common structures/covers\n",
    "2. Match structures  \n",
    "    a. Match types (how to deal with mappable ones? eg. segment->linear)  \n",
    "    b. Match affected and covers\n",
    "3. Match representations (keeping the structure consistent)\n",
    "\n"
   ]
  },
  {
   "cell_type": "code",
   "execution_count": 158,
   "metadata": {},
   "outputs": [],
   "source": [
    "import yaml\n",
    "import re\n",
    "import enum\n",
    "from pprint import pprint\n",
    "\n",
    "def get_spec(file_path):\n",
    "  with open(file_path, 'r') as file_handle:\n",
    "    spec = yaml.safe_load(file_handle)\n",
    "  return spec"
   ]
  },
  {
   "cell_type": "code",
   "execution_count": 96,
   "metadata": {},
   "outputs": [],
   "source": [
    "ex_spec = get_spec('video-editor.yaml')"
   ]
  },
  {
   "cell_type": "code",
   "execution_count": 97,
   "metadata": {},
   "outputs": [],
   "source": [
    "def process_listable(target, func):\n",
    "  if target is None:\n",
    "    return\n",
    "\n",
    "  if type(target) == list:\n",
    "    for target_item in target:\n",
    "      func(target_item)\n",
    "  else:\n",
    "    func(target)"
   ]
  },
  {
   "cell_type": "markdown",
   "metadata": {},
   "source": [
    "## Parsing for objects"
   ]
  },
  {
   "cell_type": "code",
   "execution_count": 151,
   "metadata": {},
   "outputs": [],
   "source": [
    "def strip_type(obj):\n",
    "  return re.sub(r'\\((\\w|-)*\\) ', '', obj)\n",
    "\n",
    "def register_object(registry, obj):\n",
    "  # -> means mapto\n",
    "  # . means subset\n",
    "  # / means component  # TODO: actually do this!!\n",
    "  assert(type(obj) is str)\n",
    "  obj = strip_type(obj)\n",
    "\n",
    "  arrow_array = obj.split('->')\n",
    "  for arrow_idx, arrow_term in enumerate(arrow_array):\n",
    "    \n",
    "    dot_array = arrow_term.split('.')\n",
    "    for dot_idx, dot_term in enumerate(dot_array):\n",
    "      subject = '.'.join(dot_array[:dot_idx + 1]) # join up to idx\n",
    "      if not registry.get(subject):\n",
    "        registry[subject] = set()\n",
    "      \n",
    "      if dot_idx > 0:\n",
    "        # every sequence maps to the previous element eg. a.b.c => {a.b.c: {a.b}, a.b: {a}}\n",
    "        previous = '.'.join(dot_array[:dot_idx])\n",
    "        registry[subject].add(previous)\n",
    "    \n",
    "    if arrow_idx > 0:\n",
    "      # a pair of arrows lhs->rhs => {lhs: {rhs}}\n",
    "      lhs = registry[arrow_array[arrow_idx - 1]]\n",
    "      rhs = arrow_array[arrow_idx]\n",
    "      lhs.add(rhs)"
   ]
  },
  {
   "cell_type": "code",
   "execution_count": 99,
   "metadata": {},
   "outputs": [
    {
     "name": "stdout",
     "output_type": "stream",
     "text": [
      "testing: a\n",
      "expected:\n",
      "{'a': set()}\n",
      "got:\n",
      "{'a': set()}\n",
      "\n",
      "testing: a.b.c\n",
      "expected:\n",
      "{'a': set(), 'a.b': {'a'}, 'a.b.c': {'a.b'}}\n",
      "got:\n",
      "{'a': set(), 'a.b': {'a'}, 'a.b.c': {'a.b'}}\n",
      "\n",
      "testing: a->b->c\n",
      "expected:\n",
      "{'a': {'b'}, 'b': {'c'}, 'c': set()}\n",
      "got:\n",
      "{'a': {'b'}, 'b': {'c'}, 'c': set()}\n",
      "\n",
      "testing: a.b->x->z.w\n",
      "expected:\n",
      "{'a': set(), 'a.b': {'x', 'a'}, 'x': {'z.w'}, 'z': set(), 'z.w': {'z'}}\n",
      "got:\n",
      "{'a': set(), 'a.b': {'x', 'a'}, 'x': {'z.w'}, 'z': set(), 'z.w': {'z'}}\n"
     ]
    }
   ],
   "source": [
    "# Tests\n",
    "print('testing: a')\n",
    "test = {}\n",
    "print('expected:')\n",
    "pprint({'a': set()})\n",
    "print('got:')\n",
    "register_object(test, 'a')\n",
    "pprint(test)\n",
    "\n",
    "print()\n",
    "\n",
    "print('testing: a.b.c')\n",
    "test = {}\n",
    "print('expected:')\n",
    "pprint({'a': set(), 'a.b': {'a'}, 'a.b.c': {'a.b'}})\n",
    "print('got:')\n",
    "register_object(test, 'a.b.c')\n",
    "pprint(test)\n",
    "\n",
    "print()\n",
    "\n",
    "print('testing: a->b->c')\n",
    "test = {}\n",
    "print('expected:')\n",
    "pprint({'a': {'b'}, 'b': {'c'}, 'c': set()})\n",
    "print('got:')\n",
    "register_object(test, 'a->b->c')\n",
    "pprint(test)\n",
    "\n",
    "print()\n",
    "\n",
    "print('testing: a.b->x->z.w')\n",
    "\n",
    "test = {}\n",
    "register_object(test, 'a.b->x->z.w')\n",
    "print('expected:')\n",
    "print({'a': set(), 'a.b': {'x', 'a'}, 'x': {'z.w'}, 'z': set(), 'z.w': {'z'}})\n",
    "print('got:')\n",
    "pprint(test)\n"
   ]
  },
  {
   "cell_type": "code",
   "execution_count": 152,
   "metadata": {},
   "outputs": [],
   "source": [
    "def register_struct_objects(struct, registry, process_func):\n",
    "  if struct.get('type') == 'group':\n",
    "    # Groups also behave as objects, so register them\n",
    "    name = struct.get('name')\n",
    "    if name is None:\n",
    "      print('Warning! No name provided for group. Using `NO NAME PROVIDED` instead. TODO: generate ID.')\n",
    "      name = 'NO NAME PROVIDED'\n",
    "\n",
    "    if registry.get(name) is None:\n",
    "      registry[name] = set()\n",
    "    \n",
    "    # TODO: do groups map to their elements? Really, does the transitive property apply? My hunch is no, but need to think more\n",
    "\n",
    "  process_listable(struct.get('affects'), process_func)\n",
    "  process_listable(struct.get('covered-by'), process_func)\n",
    "  # TODO: relate all of the objects affected/covered by a structure. \n",
    "\n",
    "  for derivative in struct.get('structures', []):\n",
    "    register_struct_objects(derivative, objects=registry, process_func=process_func)\n",
    "\n",
    "\n",
    "def register_repr_objects(repr, registry, process_func):\n",
    "  repr_type = repr.get('type', '')\n",
    "  # print(repr_type)\n",
    "  for repr_item in repr.get('objects', []):\n",
    "    assert(len(repr_item.values()) == 1)\n",
    "    repr_obj, target_objs = list(repr_item.items())[0]\n",
    "\n",
    "    process_listable(target_objs, process_func)\n",
    "\n",
    "    # Map every item to the associated representational object\n",
    "    # eg. {message: {textbox}, author: {textbox}}\n",
    "    def register_repr_maps(target):\n",
    "      # note: this is a bit backwards compared to the syntax!\n",
    "      if registry.get(target) is None:\n",
    "        registry[target] = set()\n",
    "      registry[target].add(repr_obj)\n",
    "      # objects[target].add(repr_type + '/' + repr_obj)  # when we prefix the core stuff\n",
    "    process_listable(target_objs, register_repr_maps)\n",
    "\n",
    "\n",
    "\n",
    "def register_spec_objects(spec, registry={}): # {object: [mapto-targets]}\n",
    "  # TODO: deal with `objects` block\n",
    "  def register_object_here(target):\n",
    "    register_object(registry, target)\n",
    "  \n",
    "  process_listable(spec.get('objects'), register_object_here)\n",
    "\n",
    "  for struct in spec.get('structures', []):\n",
    "    register_struct_objects(struct, registry, register_object_here)\n",
    "    \n",
    "  for repr in spec.get('representations', []):\n",
    "    register_repr_objects(repr, registry, register_object_here)\n",
    "  \n",
    "  return registry"
   ]
  },
  {
   "cell_type": "code",
   "execution_count": 153,
   "metadata": {},
   "outputs": [
    {
     "name": "stdout",
     "output_type": "stream",
     "text": [
      "{'playhead': {'vline', 'videos.in-editor/images'},\n",
      " 'playhead->videos.in-editor/images': {'rect'},\n",
      " 'timestamps': {'vline'},\n",
      " 'tracks': {'region'},\n",
      " 'videos': set(),\n",
      " 'videos.in-editor': {'rect', 'videos'},\n",
      " 'videos.in-editor/images': {'videos'},\n",
      " 'videos/first-frame': {'regions'}}\n"
     ]
    }
   ],
   "source": [
    "pprint(register_spec_objects(ex_spec))"
   ]
  },
  {
   "cell_type": "code",
   "execution_count": 154,
   "metadata": {},
   "outputs": [
    {
     "name": "stdout",
     "output_type": "stream",
     "text": [
      "{'hlines': {'lines'},\n",
      " 'icons': {'regions'},\n",
      " 'lines': {'regions'},\n",
      " 'points': set(),\n",
      " 'rects': {'regions'},\n",
      " 'regions': set(),\n",
      " 'vlines': {'lines'}}\n"
     ]
    }
   ],
   "source": [
    "core_spec = get_spec('core.yaml')\n",
    "core_objs = {}\n",
    "\n",
    "# TODO: probably need to consider prefixing gui on these\n",
    "for repr_type in core_spec.get('representation-types', []):\n",
    "  # print(repr_type['name'])\n",
    "  register_spec_objects(repr_type, core_objs)\n",
    "\n",
    "# register_spec_objects(core_spec, core_objs)\n",
    "\n",
    "pprint(core_objs)"
   ]
  },
  {
   "cell_type": "code",
   "execution_count": 155,
   "metadata": {},
   "outputs": [],
   "source": [
    "def get_node_join(left, right, relations, visited=set()):\n",
    "  # TODO: I bet there's \n",
    "  assert(type(left) is str)\n",
    "  assert(type(right) is str)\n",
    "\n",
    "  # Trace print\n",
    "  # print(f\"{left:<8} {right:<}\")\n",
    "\n",
    "  if left in visited or right in visited:\n",
    "    # To avoid cycles, abort if we've already visited a node\n",
    "    # NOTE: Not like 100% sure this is clean\n",
    "    print(\"WARNING! Cycle detected in the relations.\")\n",
    "    return None\n",
    "\n",
    "  if left == right:\n",
    "    return left\n",
    "  \n",
    "  for next_left in relations[left]:\n",
    "    left_res = get_node_join(next_left, right, relations, visited=visited)\n",
    "    if left_res is None:\n",
    "      # When you reach the leaf of a spanning tree, pop back up to recurse\n",
    "      for next_right in relations[right]:\n",
    "        return get_node_join(left, next_right, relations, visited=visited)\n",
    "    else:\n",
    "      return left_res\n",
    "\n",
    "  if len(relations[right]) == 0 and len(relations[left]) == 0:\n",
    "    return None\n"
   ]
  },
  {
   "cell_type": "code",
   "execution_count": 156,
   "metadata": {},
   "outputs": [
    {
     "name": "stdout",
     "output_type": "stream",
     "text": [
      "vlines, hlines => lines\n",
      "rects, hlines => regions\n",
      "points, hlines => None\n"
     ]
    }
   ],
   "source": [
    "print('vlines, hlines => ' + str(get_node_join('vlines', 'hlines', core_objs)))\n",
    "print('rects, hlines => ' + str(get_node_join('rects', 'hlines', core_objs)))\n",
    "print('points, hlines => ' + str(get_node_join('points', 'hlines', core_objs)))"
   ]
  },
  {
   "cell_type": "markdown",
   "metadata": {},
   "source": [
    "## Prepare structure relations\n",
    "We want to be able to say that two structures have the same time if they both map to a common structure (if they have common structure eg. gui.stack) and structure type."
   ]
  },
  {
   "cell_type": "code",
   "execution_count": null,
   "metadata": {},
   "outputs": [],
   "source": [
    "def register_struct_relation(registry, )"
   ]
  },
  {
   "cell_type": "markdown",
   "metadata": {},
   "source": [
    "## Find Overlaps\n",
    "An overlap is a spec that is found in each side. There are usually a lot, and ideally we want the \"maximal\" overlaps (and not all of its the subsets).\n",
    "\n",
    "The strategy is to find an overlap, exploit it as much as possible, then move on.\n",
    "\n",
    "How do you know if you're done?  \n",
    "-- You've looped through all things and stopped adding things.\n",
    "\n",
    "When do you duplicate your candidate?  \n",
    "-- I guess when you're going back up  \n",
    "\n",
    "Are we going depth first or breadth first?  \n",
    "-- Depth first makes the most sense I think  \n",
    "\n",
    "How do you even recurse, since every node behaves differently?   \n",
    "-- Well I guess you need a traversal function that takes a \"deal with node\" function with parameters for local data  \n",
    "\n",
    "How do you traverse two specs at once?  \n",
    "-- Probably like the relation meet algo: progress in one, and when it's done, pop back to the top before recursing\n",
    "\n",
    "What if I look at _just_ the structures, then extend them with representations and behavior?  \n",
    "-- That can work, as long as I can match representations on their own (ie. if no structure stuff maps)\n",
    "\n",
    "How do I compare structures.affects without m*n valid matches?  \n",
    "-- The greedy approach feels like reaching into the uses for those objects, and basically buidling the graph.\n",
    "-- I think a smarter way to do it is to match all the structures/representations/behaviors based on type and used fields, then in a second pass flesh them out with objects. "
   ]
  },
  {
   "cell_type": "code",
   "execution_count": 159,
   "metadata": {},
   "outputs": [],
   "source": [
    "# Get object relation registry\n",
    "def traverse_spec(spec, func):\n",
    "  # Navigate Structures\n",
    "  for struct in spec.get('structures', []):\n",
    "    func(struct)\n",
    "  # Hm.\n",
    "\n",
    "class Context(enum.Enum):\n",
    "  Structure = enum.auto()\n",
    "  Representation = enum.auto()\n",
    "  Behavior = enum.auto()\n",
    "\n",
    "def add_to_overlap():\n",
    "  pass\n",
    "\n",
    "def compare_structs(sinister, dextera, struct_relations):\n",
    "  # Check Type\n",
    "  common_type = None\n",
    "  if sinister.get('type') == dextera.get('type'):\n",
    "    common_type = sinister.get('type')\n",
    "  # TODO: find join under struct_relations\n",
    "  \n",
    "  # TODO: how do I compare these without m*n valid matches?\n",
    "  # Find overlap on affects\n",
    "  pass\n",
    "  \n",
    "  # Find overlap on overlaps\n",
    "  pass\n",
    "\n",
    "def compare_nodes(s_node, d_node, context, obj_relations, struct_relations):\n",
    "  assert(type(context) is Context)\n",
    "\n",
    "  if context == Context.Structure:\n",
    "    compare_structs(s_node, d_node, struct_relations)\n",
    "  elif context == Context.Representation:\n",
    "    pass\n",
    "  elif context == Context.Behavior:\n",
    "    pass\n",
    "\n",
    "def traverse_specs(sinister, dextera, node_func):\n",
    "  pass"
   ]
  },
  {
   "cell_type": "code",
   "execution_count": null,
   "metadata": {},
   "outputs": [],
   "source": []
  }
 ],
 "metadata": {
  "kernelspec": {
   "display_name": "venv",
   "language": "python",
   "name": "python3"
  },
  "language_info": {
   "codemirror_mode": {
    "name": "ipython",
    "version": 3
   },
   "file_extension": ".py",
   "mimetype": "text/x-python",
   "name": "python",
   "nbconvert_exporter": "python",
   "pygments_lexer": "ipython3",
   "version": "3.11.6"
  }
 },
 "nbformat": 4,
 "nbformat_minor": 2
}
