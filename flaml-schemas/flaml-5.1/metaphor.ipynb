{
 "cells": [
  {
   "cell_type": "markdown",
   "metadata": {},
   "source": [
    "# Metaphor algorithm\n",
    "\n",
    "1. Parse file and list objects & mapto implied by subsets, common structures/covers\n",
    "2. Match structures  \n",
    "    a. Match types (how to deal with mappable ones? eg. segment->linear)  \n",
    "    b. Match affected and covers\n",
    "3. Match representations (keeping the structure consistent)\n",
    "\n"
   ]
  },
  {
   "cell_type": "code",
   "execution_count": 9,
   "metadata": {},
   "outputs": [],
   "source": [
    "import yaml\n",
    "import re\n",
    "import enum\n",
    "from pprint import pprint\n",
    "import itertools\n",
    "import math\n",
    "\n",
    "def get_spec(file_path):\n",
    "  with open(file_path, 'r') as file_handle:\n",
    "    spec = yaml.safe_load(file_handle)\n",
    "  return spec"
   ]
  },
  {
   "cell_type": "code",
   "execution_count": 10,
   "metadata": {},
   "outputs": [],
   "source": [
    "ex_spec = get_spec('video-editor.yaml')"
   ]
  },
  {
   "cell_type": "code",
   "execution_count": 11,
   "metadata": {},
   "outputs": [],
   "source": [
    "def process_listable(target, func):\n",
    "  if target is None:\n",
    "    return\n",
    "\n",
    "  if type(target) == list:\n",
    "    for target_item in target:\n",
    "      func(target_item)\n",
    "  else:\n",
    "    func(target)"
   ]
  },
  {
   "cell_type": "markdown",
   "metadata": {},
   "source": [
    "## Parsing for objects"
   ]
  },
  {
   "cell_type": "code",
   "execution_count": 12,
   "metadata": {},
   "outputs": [],
   "source": [
    "def strip_type(obj):\n",
    "  return re.sub(r'\\((\\w|-)*\\) ', '', obj)\n",
    "\n",
    "def register_object(registry, obj):\n",
    "  # -> means mapto\n",
    "  # . means subset\n",
    "  # / means component  # TODO: actually do this!!\n",
    "  assert(type(obj) is str)\n",
    "  obj = strip_type(obj)\n",
    "\n",
    "  arrow_array = obj.split('->')\n",
    "  for arrow_idx, arrow_term in enumerate(arrow_array):\n",
    "    \n",
    "    dot_array = arrow_term.split('.')\n",
    "    for dot_idx, dot_term in enumerate(dot_array):\n",
    "      subject = '.'.join(dot_array[:dot_idx + 1]) # join up to idx\n",
    "      if not registry.get(subject):\n",
    "        registry[subject] = set()\n",
    "      \n",
    "      if dot_idx > 0:\n",
    "        # every sequence maps to the previous element eg. a.b.c => {a.b.c: {a.b}, a.b: {a}}\n",
    "        previous = '.'.join(dot_array[:dot_idx])\n",
    "        registry[subject].add(previous)\n",
    "    \n",
    "    if arrow_idx > 0:\n",
    "      # a pair of arrows lhs->rhs => {lhs: {rhs}}\n",
    "      lhs = registry[arrow_array[arrow_idx - 1]]\n",
    "      rhs = arrow_array[arrow_idx]\n",
    "      lhs.add(rhs)"
   ]
  },
  {
   "cell_type": "code",
   "execution_count": 13,
   "metadata": {},
   "outputs": [
    {
     "name": "stdout",
     "output_type": "stream",
     "text": [
      "testing: a\n",
      "expected:\n",
      "{'a': set()}\n",
      "got:\n",
      "{'a': set()}\n",
      "\n",
      "testing: a.b.c\n",
      "expected:\n",
      "{'a': set(), 'a.b': {'a'}, 'a.b.c': {'a.b'}}\n",
      "got:\n",
      "{'a': set(), 'a.b': {'a'}, 'a.b.c': {'a.b'}}\n",
      "\n",
      "testing: a->b->c\n",
      "expected:\n",
      "{'a': {'b'}, 'b': {'c'}, 'c': set()}\n",
      "got:\n",
      "{'a': {'b'}, 'b': {'c'}, 'c': set()}\n",
      "\n",
      "testing: a.b->x->z.w\n",
      "expected:\n",
      "{'a': set(), 'a.b': {'a', 'x'}, 'x': {'z.w'}, 'z': set(), 'z.w': {'z'}}\n",
      "got:\n",
      "{'a': set(), 'a.b': {'x', 'a'}, 'x': {'z.w'}, 'z': set(), 'z.w': {'z'}}\n"
     ]
    }
   ],
   "source": [
    "# Tests\n",
    "print('testing: a')\n",
    "test = {}\n",
    "print('expected:')\n",
    "pprint({'a': set()})\n",
    "print('got:')\n",
    "register_object(test, 'a')\n",
    "pprint(test)\n",
    "\n",
    "print()\n",
    "\n",
    "print('testing: a.b.c')\n",
    "test = {}\n",
    "print('expected:')\n",
    "pprint({'a': set(), 'a.b': {'a'}, 'a.b.c': {'a.b'}})\n",
    "print('got:')\n",
    "register_object(test, 'a.b.c')\n",
    "pprint(test)\n",
    "\n",
    "print()\n",
    "\n",
    "print('testing: a->b->c')\n",
    "test = {}\n",
    "print('expected:')\n",
    "pprint({'a': {'b'}, 'b': {'c'}, 'c': set()})\n",
    "print('got:')\n",
    "register_object(test, 'a->b->c')\n",
    "pprint(test)\n",
    "\n",
    "print()\n",
    "\n",
    "print('testing: a.b->x->z.w')\n",
    "\n",
    "test = {}\n",
    "register_object(test, 'a.b->x->z.w')\n",
    "print('expected:')\n",
    "print({'a': set(), 'a.b': {'x', 'a'}, 'x': {'z.w'}, 'z': set(), 'z.w': {'z'}})\n",
    "print('got:')\n",
    "pprint(test)\n"
   ]
  },
  {
   "cell_type": "code",
   "execution_count": 14,
   "metadata": {},
   "outputs": [],
   "source": [
    "def register_struct_objects(struct, registry, process_func):\n",
    "  if struct.get('type') == 'group':\n",
    "    # Groups also behave as objects, so register them\n",
    "    name = struct.get('name')\n",
    "    if name is None:\n",
    "      print('Warning! No name provided for group. Using `NO NAME PROVIDED` instead. TODO: generate ID.')\n",
    "      name = 'NO NAME PROVIDED'\n",
    "\n",
    "    if registry.get(name) is None:\n",
    "      registry[name] = set()\n",
    "    \n",
    "    # TODO: do groups map to their elements? Really, does the transitive property apply? My hunch is no, but need to think more\n",
    "\n",
    "  process_listable(struct.get('affects'), process_func)\n",
    "  process_listable(struct.get('covered-by'), process_func)\n",
    "  # TODO: relate all of the objects affected/covered by a structure. \n",
    "\n",
    "  for derivative in struct.get('structures', []):\n",
    "    register_struct_objects(derivative, registry=registry, process_func=process_func)\n",
    "\n",
    "\n",
    "def register_repr_objects(repr, registry, process_func):\n",
    "  repr_type = repr.get('type', '')\n",
    "  # print(repr_type)\n",
    "  for repr_item in repr.get('objects', []):\n",
    "    assert(len(repr_item.values()) == 1)\n",
    "    repr_obj, target_objs = list(repr_item.items())[0]\n",
    "\n",
    "    process_listable(target_objs, process_func)\n",
    "\n",
    "    # Map every item to the associated representational object\n",
    "    # eg. {message: {textbox}, author: {textbox}}\n",
    "    def register_repr_maps(target):\n",
    "      # note: this is a bit backwards compared to the syntax!\n",
    "      if registry.get(target) is None:\n",
    "        registry[target] = set()\n",
    "      registry[target].add(repr_obj)\n",
    "      # objects[target].add(repr_type + '/' + repr_obj)  # when we prefix the core stuff\n",
    "    process_listable(target_objs, register_repr_maps)\n",
    "\n",
    "\n",
    "\n",
    "def register_spec_objects(spec, registry=None): # {object: [mapto-targets]}\n",
    "  if registry is None:\n",
    "    registry = {}\n",
    "\n",
    "  # TODO: deal with `objects` block\n",
    "  def register_object_here(target):\n",
    "    register_object(registry, target)\n",
    "  \n",
    "  process_listable(spec.get('objects'), register_object_here)\n",
    "\n",
    "  for struct in spec.get('structures', []):\n",
    "    register_struct_objects(struct, registry, register_object_here)\n",
    "    \n",
    "  for repr in spec.get('representations', []):\n",
    "    register_repr_objects(repr, registry, register_object_here)\n",
    "  \n",
    "  return registry"
   ]
  },
  {
   "cell_type": "code",
   "execution_count": 15,
   "metadata": {},
   "outputs": [
    {
     "name": "stdout",
     "output_type": "stream",
     "text": [
      "{'playhead': {'vlines', 'videos.in-editor/images'},\n",
      " 'playhead->videos.in-editor/images': {'rects'},\n",
      " 'timestamps': {'vlines'},\n",
      " 'tracks': {'regions'},\n",
      " 'videos': set(),\n",
      " 'videos.in-editor': {'rects', 'videos'},\n",
      " 'videos.in-editor/images': {'videos'},\n",
      " 'videos/first-frame': {'regions'}}\n"
     ]
    }
   ],
   "source": [
    "pprint(register_spec_objects(ex_spec))"
   ]
  },
  {
   "cell_type": "code",
   "execution_count": 16,
   "metadata": {},
   "outputs": [
    {
     "name": "stdout",
     "output_type": "stream",
     "text": [
      "{'hlines': {'lines'},\n",
      " 'icons': {'regions'},\n",
      " 'lines': {'regions'},\n",
      " 'points': set(),\n",
      " 'rects': {'regions'},\n",
      " 'regions': set(),\n",
      " 'vlines': {'lines'}}\n"
     ]
    }
   ],
   "source": [
    "core_spec = get_spec('core.yaml')\n",
    "core_objs = {}\n",
    "\n",
    "# TODO: probably need to consider prefixing gui on these\n",
    "for repr_type in core_spec.get('representation-types', []):\n",
    "  # print(repr_type['name'])\n",
    "  register_spec_objects(repr_type, core_objs)\n",
    "\n",
    "# register_spec_objects(core_spec, core_objs)\n",
    "\n",
    "pprint(core_objs)"
   ]
  },
  {
   "cell_type": "code",
   "execution_count": 17,
   "metadata": {},
   "outputs": [],
   "source": [
    "def get_node_join(left, right, relations, visited=set()):\n",
    "  # TODO: I bet there's \n",
    "  assert(type(left) is str)\n",
    "  assert(type(right) is str)\n",
    "\n",
    "  # Trace print\n",
    "  # print(f\"{left:<8} {right:<}\")\n",
    "\n",
    "  if left in visited or right in visited:\n",
    "    # To avoid cycles, abort if we've already visited a node\n",
    "    # NOTE: Not like 100% sure this is clean\n",
    "    print(\"WARNING! Cycle detected in the relations.\")\n",
    "    return None\n",
    "\n",
    "  if left == right:\n",
    "    return left\n",
    "  \n",
    "  for next_left in relations[left]:\n",
    "    left_res = get_node_join(next_left, right, relations, visited=visited)\n",
    "    if left_res is None:\n",
    "      # When you reach the leaf of a spanning tree, pop back up to recurse\n",
    "      for next_right in relations[right]:\n",
    "        return get_node_join(left, next_right, relations, visited=visited)\n",
    "    else:\n",
    "      return left_res\n",
    "\n",
    "  if len(relations[right]) == 0 and len(relations[left]) == 0:\n",
    "    return None\n"
   ]
  },
  {
   "cell_type": "code",
   "execution_count": 18,
   "metadata": {},
   "outputs": [
    {
     "name": "stdout",
     "output_type": "stream",
     "text": [
      "vlines, hlines => lines\n",
      "rects, hlines => regions\n",
      "points, hlines => None\n"
     ]
    }
   ],
   "source": [
    "print('vlines, hlines => ' + str(get_node_join('vlines', 'hlines', core_objs)))\n",
    "print('rects, hlines => ' + str(get_node_join('rects', 'hlines', core_objs)))\n",
    "print('points, hlines => ' + str(get_node_join('points', 'hlines', core_objs)))"
   ]
  },
  {
   "cell_type": "markdown",
   "metadata": {},
   "source": [
    "## Prepare structure relations\n",
    "We want to be able to say that two structures have the same time if they both map to a common structure (if they have common structure eg. gui.stack) and structure type."
   ]
  },
  {
   "cell_type": "code",
   "execution_count": 19,
   "metadata": {},
   "outputs": [],
   "source": [
    "# def register_struct_relation(registry, )"
   ]
  },
  {
   "cell_type": "markdown",
   "metadata": {},
   "source": [
    "## Find Overlaps\n",
    "An overlap is a spec that is found in each side. There are usually a lot, and ideally we want the \"maximal\" overlaps (and not all of its the subsets).\n",
    "\n",
    "The strategy is to find an overlap, exploit it as much as possible, then move on.\n",
    "\n",
    "How do you know if you're done?  \n",
    "-- You've looped through all things and stopped adding things.\n",
    "\n",
    "When do you duplicate your candidate?  \n",
    "-- I guess when you're going back up  \n",
    "\n",
    "Are we going depth first or breadth first?  \n",
    "-- Depth first makes the most sense I think  \n",
    "\n",
    "How do you even recurse, since every node behaves differently?   \n",
    "-- Well I guess you need a traversal function that takes a \"deal with node\" function with parameters for local data  \n",
    "\n",
    "How do you traverse two specs at once?  \n",
    "-- Probably like the relation meet algo: progress in one, and when it's done, pop back to the top before recursing\n",
    "\n",
    "What if I look at _just_ the structures, then extend them with representations and behavior?  \n",
    "-- That can work, as long as I can match representations on their own (ie. if no structure stuff maps)\n",
    "\n",
    "How do I compare structures.affects without m*n valid matches?  \n",
    "-- The greedy approach feels like reaching into the uses for those objects, and basically buidling the graph.\n",
    "-- I think a smarter way to do it is to match all the structures/representations/behaviors based on type and used fields, then in a second pass flesh them out with objects. "
   ]
  },
  {
   "cell_type": "code",
   "execution_count": 20,
   "metadata": {},
   "outputs": [],
   "source": [
    "# Get object relation registry\n",
    "def traverse_spec(spec, func):\n",
    "  # Navigate Structures\n",
    "  for struct in spec.get('structures', []):\n",
    "    func(struct)\n",
    "  # Hm.\n",
    "\n",
    "class Context(enum.Enum):\n",
    "  Structure = enum.auto()\n",
    "  Representation = enum.auto()\n",
    "  Behavior = enum.auto()\n",
    "\n",
    "def add_to_overlap():\n",
    "  pass\n",
    "\n",
    "def compare_structs(sinister, dextera, struct_relations):\n",
    "  # Check Type\n",
    "  common_type = None\n",
    "  if sinister.get('type') == dextera.get('type'):\n",
    "    common_type = sinister.get('type')\n",
    "  # TODO: find join under struct_relations\n",
    "  \n",
    "  # TODO: how do I compare these without m*n valid matches?\n",
    "  # Find overlap on affects\n",
    "  pass\n",
    "  \n",
    "  # Find overlap on overlaps\n",
    "  pass\n",
    "\n",
    "def compare_nodes(s_node, d_node, context, obj_relations, struct_relations):\n",
    "  assert(type(context) is Context)\n",
    "\n",
    "  if context == Context.Structure:\n",
    "    compare_structs(s_node, d_node, struct_relations)\n",
    "  elif context == Context.Representation:\n",
    "    pass\n",
    "  elif context == Context.Behavior:\n",
    "    pass\n",
    "\n",
    "def traverse_specs(sinister, dextera, node_func):\n",
    "  pass"
   ]
  },
  {
   "cell_type": "code",
   "execution_count": null,
   "metadata": {},
   "outputs": [],
   "source": []
  },
  {
   "cell_type": "markdown",
   "metadata": {},
   "source": [
    "## Generic graph matching algorithm\n",
    "Taken from: https://link.springer.com/chapter/10.1007/978-1-4615-4401-2_10\n",
    "With help from Brian (Hemple)\n",
    "\n",
    "Update: this is all kind of bad"
   ]
  },
  {
   "cell_type": "code",
   "execution_count": 21,
   "metadata": {},
   "outputs": [],
   "source": [
    "from dataclasses import dataclass\n",
    "from typing import List, Tuple, Set\n",
    "from copy import copy"
   ]
  },
  {
   "cell_type": "code",
   "execution_count": 22,
   "metadata": {},
   "outputs": [],
   "source": [
    "# Error-Tolerant Graph Matching\n",
    "class NodeKind(enum.Enum):\n",
    "  Object = enum.auto()\n",
    "  ObjectType = enum.auto()\n",
    "  Structure = enum.auto()\n",
    "  StructureType = enum.auto()\n",
    "  Representation = enum.auto()\n",
    "  RepresentationType = enum.auto()\n",
    "  Behavior = enum.auto()\n",
    "\n",
    "class EdgeKind(enum.Enum):\n",
    "  Type = enum.auto()\n",
    "\n",
    "  # Structures\n",
    "  Affects = enum.auto()\n",
    "  CoveredBy = enum.auto()\n",
    "  MapToStruct = enum.auto()\n",
    "  Derivative = enum.auto()\n",
    "\n",
    "  # Objects\n",
    "  MapToObj = enum.auto()\n",
    "\n",
    "@dataclass\n",
    "class Node:\n",
    "  id: int\n",
    "  kind: NodeKind\n",
    "  def __str__(self):\n",
    "    return f'{self.kind}: {self.id}'\n",
    "\n",
    "@dataclass\n",
    "class Edge:\n",
    "  id: int\n",
    "  kind: EdgeKind\n",
    "  source: int\n",
    "  target: int\n",
    "\n",
    "  def __str__(self):\n",
    "    return f'{self.kind}: ({self.source}-{self.target})'\n",
    "\n",
    "@dataclass\n",
    "class Graph:\n",
    "  nodes: List[Node]\n",
    "  edges: List[Edge]\n",
    "\n",
    "  def __str__(self):\n",
    "    res = 'Nodes:\\n'\n",
    "    res += ', '.join([str(n) for n in self.nodes])\n",
    "    res += '\\n'\n",
    "    res += 'Edges: \\n'\n",
    "    res += '\\n'.join([str(e) for e in self.edges])\n",
    "    return res\n",
    "\n",
    "__next_id = 0\n",
    "def new_id():\n",
    "  global __next_id\n",
    "  current = __next_id\n",
    "  __next_id += 1\n",
    "  return current\n",
    "\n",
    "def reset_id_gen():\n",
    "  global __next_id\n",
    "  print(\"WARNING: Resetting ID Gen, any previously generated ids are no longer meaningful.\")\n",
    "  __next_id = 0\n",
    "\n",
    "def make_graph(spec_file: str, verbose=False) -> Graph:\n",
    "  def vprint(arg):\n",
    "    if verbose:\n",
    "      print(arg)\n",
    "\n",
    "  graph = Graph([], [])\n",
    "  \n",
    "  assert(spec_file[-5:] == '.yaml')\n",
    "  with open(spec_file, 'r') as file_handle:\n",
    "    spec = yaml.safe_load(file_handle)\n",
    "\n",
    "  # Objects\n",
    "  obj_registry = register_spec_objects(spec)\n",
    "  obj_ids: dict[str, int] = {} # {name: id}\n",
    "  for key in obj_registry:\n",
    "    o_id = new_id()\n",
    "    obj_ids[key] = o_id\n",
    "    graph.nodes.append(Node(id=o_id, kind=NodeKind.Object))\n",
    "    # print(f'{key}: {obj_ids[key]}')\n",
    "\n",
    "  for obj, targets in obj_registry.items():\n",
    "    for target in targets:\n",
    "      # assert(obj_ids.get(target) is not None)\n",
    "      if obj_ids.get(target) is None:\n",
    "        # TODO: this should be prevented by dealing with core components properly\n",
    "        vprint('note: adding id for ' + target)\n",
    "        obj_ids[target] = new_id()\n",
    "      src = obj_ids.get(obj)\n",
    "      tgt = obj_ids.get(target)\n",
    "      assert(src is not None and tgt is not None)\n",
    "      graph.edges.append(Edge(id=new_id(), kind=EdgeKind.MapToObj, source=src, target=tgt))\n",
    "  # TODO: add edges that account for transitivity\n",
    "\n",
    "  # Structures\n",
    "  struct_ids: dict[str, int]= {} # {name: id}\n",
    "  struct_type_ids: dict[str, int]= {} # {name: id}\n",
    "  for struct in spec.get('structures', []):\n",
    "    struct_name = struct.get('name')\n",
    "    assert(struct_name is not None)\n",
    "\n",
    "    struct_node = Node(new_id(), NodeKind.Structure)\n",
    "    graph.nodes.append(struct_node)\n",
    "\n",
    "    assert(struct_ids.get(struct_name) is None)\n",
    "    struct_ids[struct_name] = struct_node.id\n",
    "    vprint(f'{struct_name}: {struct_node.id}')\n",
    "\n",
    "    # Handle structure type: struct-->struct_type\n",
    "    if struct_type := struct.get('type', False):\n",
    "      type_id = struct_type_ids.get(struct_type, new_id()) # create new id if it doesn't exist\n",
    "      if not struct_type_ids.get(struct_type):\n",
    "        struct_type_ids[struct_type] = type_id\n",
    "        graph.nodes.append(Node(id=type_id, kind=NodeKind.StructureType)) # and add it to nodes\n",
    "      \n",
    "      graph.edges.append(Edge(id=new_id(), kind=EdgeKind.Type, source=struct_node.id, target=type_id))\n",
    "    \n",
    "    # Handle Affects: struct-->affected object\n",
    "    if affected := struct.get('affects'):\n",
    "      def handle_affected(obj):\n",
    "        obj_id = obj_ids.get(obj)\n",
    "        assert(obj_id is not None)\n",
    "        graph.edges.append(Edge(id=new_id(), kind=EdgeKind.Affects, source=struct_node.id, target=obj_id))\n",
    "      \n",
    "      process_listable(affected, handle_affected)\n",
    "    \n",
    "    # Handle Covers: struct-->covering object\n",
    "    if affected := struct.get('covered-by'):\n",
    "      def handle_cover(obj):\n",
    "        obj_id = obj_ids.get(obj)\n",
    "        assert(obj_id is not None)\n",
    "        graph.edges.append(Edge(id=new_id(), kind=EdgeKind.CoveredBy, source=struct_node.id, target=obj_id))\n",
    "      \n",
    "      process_listable(affected, handle_cover)\n",
    "    \n",
    "    # Handle mapto: struct-->other-struct\n",
    "    if affected := struct.get('mapto'):\n",
    "      def handle_mapto(target_struct):\n",
    "        struct_id = struct_ids.get(target_struct)\n",
    "        assert(struct_id is not None)\n",
    "        graph.edges.append(Edge(id=new_id(), kind=EdgeKind.MapToStruct, source=struct_node.id, target=struct_id))\n",
    "      \n",
    "      process_listable(affected, handle_mapto)\n",
    "    \n",
    "    # TODO: Handle nested structures\n",
    "\n",
    "\n",
    "  vprint('object ids:')\n",
    "  vprint(obj_ids)\n",
    "  vprint('structure ids:')\n",
    "  vprint(struct_type_ids)\n",
    "  vprint(graph)\n",
    "  return graph\n",
    "  \n"
   ]
  },
  {
   "cell_type": "code",
   "execution_count": 23,
   "metadata": {},
   "outputs": [
    {
     "name": "stdout",
     "output_type": "stream",
     "text": [
      "WARNING: Resetting ID Gen, any previously generated ids are no longer meaningful.\n",
      "note: adding id for hlines\n",
      "note: adding id for rects\n",
      "note: adding id for regions\n",
      "note: adding id for icons\n",
      "time: 23\n",
      "object ids:\n",
      "{'timestamps': 0, 'days': 1, 'weeks': 2, 'events': 3, 'days.selected': 4, 'timestamps.now': 5, 'days.selected->timestamps': 6, 'days.selected->events': 7, 'day-view': 8, 'nav-week': 9, 'hlines': 14, 'rects': 17, 'regions': 19, 'icons': 21}\n",
      "structure ids:\n",
      "{'linear': 24}\n",
      "Nodes:\n",
      "NodeKind.Object: 0, NodeKind.Object: 1, NodeKind.Object: 2, NodeKind.Object: 3, NodeKind.Object: 4, NodeKind.Object: 5, NodeKind.Object: 6, NodeKind.Object: 7, NodeKind.Object: 8, NodeKind.Object: 9, NodeKind.Structure: 23, NodeKind.StructureType: 24\n",
      "Edges: \n",
      "EdgeKind.MapToObj: (4-1)\n",
      "EdgeKind.MapToObj: (4-0)\n",
      "EdgeKind.MapToObj: (4-3)\n",
      "EdgeKind.MapToObj: (5-0)\n",
      "EdgeKind.MapToObj: (5-14)\n",
      "EdgeKind.MapToObj: (6-14)\n",
      "EdgeKind.MapToObj: (7-17)\n",
      "EdgeKind.MapToObj: (8-19)\n",
      "EdgeKind.MapToObj: (9-21)\n",
      "EdgeKind.Type: (23-24)\n",
      "EdgeKind.Affects: (23-0)\n",
      "EdgeKind.CoveredBy: (23-1)\n",
      "EdgeKind.CoveredBy: (23-2)\n",
      "EdgeKind.CoveredBy: (23-3)\n"
     ]
    },
    {
     "data": {
      "text/plain": [
       "Graph(nodes=[Node(id=0, kind=<NodeKind.Object: 1>), Node(id=1, kind=<NodeKind.Object: 1>), Node(id=2, kind=<NodeKind.Object: 1>), Node(id=3, kind=<NodeKind.Object: 1>), Node(id=4, kind=<NodeKind.Object: 1>), Node(id=5, kind=<NodeKind.Object: 1>), Node(id=6, kind=<NodeKind.Object: 1>), Node(id=7, kind=<NodeKind.Object: 1>), Node(id=8, kind=<NodeKind.Object: 1>), Node(id=9, kind=<NodeKind.Object: 1>), Node(id=23, kind=<NodeKind.Structure: 3>), Node(id=24, kind=<NodeKind.StructureType: 4>)], edges=[Edge(id=10, kind=<EdgeKind.MapToObj: 6>, source=4, target=1), Edge(id=11, kind=<EdgeKind.MapToObj: 6>, source=4, target=0), Edge(id=12, kind=<EdgeKind.MapToObj: 6>, source=4, target=3), Edge(id=13, kind=<EdgeKind.MapToObj: 6>, source=5, target=0), Edge(id=15, kind=<EdgeKind.MapToObj: 6>, source=5, target=14), Edge(id=16, kind=<EdgeKind.MapToObj: 6>, source=6, target=14), Edge(id=18, kind=<EdgeKind.MapToObj: 6>, source=7, target=17), Edge(id=20, kind=<EdgeKind.MapToObj: 6>, source=8, target=19), Edge(id=22, kind=<EdgeKind.MapToObj: 6>, source=9, target=21), Edge(id=25, kind=<EdgeKind.Type: 1>, source=23, target=24), Edge(id=26, kind=<EdgeKind.Affects: 2>, source=23, target=0), Edge(id=27, kind=<EdgeKind.CoveredBy: 3>, source=23, target=1), Edge(id=28, kind=<EdgeKind.CoveredBy: 3>, source=23, target=2), Edge(id=29, kind=<EdgeKind.CoveredBy: 3>, source=23, target=3)])"
      ]
     },
     "execution_count": 23,
     "metadata": {},
     "output_type": "execute_result"
    }
   ],
   "source": [
    "reset_id_gen()\n",
    "make_graph('calendar.yaml', True)"
   ]
  },
  {
   "cell_type": "code",
   "execution_count": 24,
   "metadata": {},
   "outputs": [
    {
     "data": {
      "text/plain": [
       "Graph(nodes=[Node(id=30, kind=<NodeKind.Object: 1>), Node(id=31, kind=<NodeKind.Object: 1>), Node(id=32, kind=<NodeKind.Object: 1>), Node(id=33, kind=<NodeKind.Object: 1>), Node(id=34, kind=<NodeKind.Object: 1>), Node(id=35, kind=<NodeKind.Object: 1>), Node(id=36, kind=<NodeKind.Object: 1>), Node(id=37, kind=<NodeKind.Object: 1>), Node(id=50, kind=<NodeKind.Structure: 3>), Node(id=51, kind=<NodeKind.StructureType: 4>), Node(id=56, kind=<NodeKind.Structure: 3>), Node(id=57, kind=<NodeKind.StructureType: 4>), Node(id=60, kind=<NodeKind.Structure: 3>)], edges=[Edge(id=39, kind=<EdgeKind.MapToObj: 6>, source=31, target=38), Edge(id=40, kind=<EdgeKind.MapToObj: 6>, source=31, target=30), Edge(id=42, kind=<EdgeKind.MapToObj: 6>, source=32, target=41), Edge(id=43, kind=<EdgeKind.MapToObj: 6>, source=33, target=41), Edge(id=44, kind=<EdgeKind.MapToObj: 6>, source=33, target=35), Edge(id=46, kind=<EdgeKind.MapToObj: 6>, source=34, target=45), Edge(id=47, kind=<EdgeKind.MapToObj: 6>, source=35, target=30), Edge(id=48, kind=<EdgeKind.MapToObj: 6>, source=36, target=38), Edge(id=49, kind=<EdgeKind.MapToObj: 6>, source=37, target=45), Edge(id=52, kind=<EdgeKind.Type: 1>, source=50, target=51), Edge(id=53, kind=<EdgeKind.Affects: 2>, source=50, target=32), Edge(id=54, kind=<EdgeKind.Affects: 2>, source=50, target=33), Edge(id=55, kind=<EdgeKind.CoveredBy: 3>, source=50, target=31), Edge(id=58, kind=<EdgeKind.Type: 1>, source=56, target=57), Edge(id=59, kind=<EdgeKind.Affects: 2>, source=56, target=31), Edge(id=62, kind=<EdgeKind.Type: 1>, source=60, target=51), Edge(id=63, kind=<EdgeKind.Affects: 2>, source=60, target=30)])"
      ]
     },
     "execution_count": 24,
     "metadata": {},
     "output_type": "execute_result"
    }
   ],
   "source": [
    "make_graph('video-editor.yaml')"
   ]
  },
  {
   "cell_type": "code",
   "execution_count": null,
   "metadata": {},
   "outputs": [],
   "source": []
  },
  {
   "cell_type": "code",
   "execution_count": 25,
   "metadata": {},
   "outputs": [],
   "source": [
    "# Python type for a set of node pairs\n",
    "ETGM = Set[Tuple[int, int]] # Error Tolerant Graph Matching\n",
    "\n",
    "def score_etgm(g1: Graph, g2: Graph, etgm: ETGM) -> float:\n",
    "  # TODO ...\n",
    "  # missing_nodes_g1 = ...\n",
    "  # missing_nodes_g2 = ...\n",
    "  # replace_costs = [replacement_cost(n1, n2) for (n1, n2) in etgm]\n",
    "  # edge_costs = 0.0\n",
    "  # for (n1, n2) in etgm:\n",
    "  #   node_missing_edges_g1 = ...\n",
    "  #   node_missing_edges_g2 = ...\n",
    "  #   ...\n",
    "  return 0.0\n",
    "\n",
    "def etgms_scored_sorted(g1: Graph, g2: Graph) -> List[Tuple[ETGM, float]]:\n",
    "  return sorted([(etgm, score_etgm(g1, g2, etgm)) for etgm in get_etgms(g1, g2)], key=lambda x: x[1])\n",
    "\n",
    "def get_etgms(g1: Graph, g2: Graph) -> List[ETGM]:\n",
    "  cache = {}\n",
    "\n",
    "  def expand_etgms(etgms: List[ETGM]) -> Tuple[bool, List[ETGM]]:\n",
    "    expanded = False\n",
    "    out_etgms = copy(etgms)\n",
    "    for etgm in etgms:\n",
    "      expanded_etgm = devandvscodescoolfunction(etgm)\n",
    "      if expanded_etgm is not None and expanded_etgm not in out_etgms:\n",
    "        out_etgms.append(expanded_etgm)\n",
    "        expanded = True\n",
    "    # print(out_etgms)\n",
    "    return expanded, out_etgms\n",
    "\n",
    "  def devandvscodescoolfunction(etgm):\n",
    "      if str(etgm) in cache:\n",
    "        return cache[str(etgm)]\n",
    "      \n",
    "      for n1 in g1.nodes:\n",
    "        for n2 in g2.nodes:\n",
    "          if (n1.id, n2.id) not in etgm:\n",
    "            if is_valid_node_pair(n1, n2):\n",
    "              new_etgm = set(etgm) #??\n",
    "              new_etgm.add((n1.id, n2.id))\n",
    "              # print((n1.id, n2.id), etgms)\n",
    "              if is_valid_etgm(g1, g2, new_etgm):\n",
    "              # expanded = True\n",
    "                cache[str(etgm)] = set(new_etgm)\n",
    "                return new_etgm\n",
    "              # print(new_etgm, etgms)\n",
    "              # out_etgms.append(new_etgm)\n",
    "      cache[str(etgm)] = None\n",
    "      return None\n",
    "\n",
    "  etgms = [set()]\n",
    "  expanded = True\n",
    "  while expanded:\n",
    "    expanded, etgms = expand_etgms(etgms)\n",
    "    print(len(etgms))\n",
    "  return etgms\n",
    "\n",
    "def is_valid_node_pair(n1: Node, n2: Node) -> bool:\n",
    "  if n1.kind != n2.kind:\n",
    "    return False\n",
    "  \n",
    "  return True\n",
    "\n",
    "def is_valid_etgm(g1: Graph, g2: Graph, etgm: ETGM) -> bool:\n",
    "  # for every node pair in etgm\n",
    "  # for (n1, n2) in etgm:\n",
    "  return True"
   ]
  },
  {
   "cell_type": "code",
   "execution_count": 26,
   "metadata": {},
   "outputs": [
    {
     "name": "stdout",
     "output_type": "stream",
     "text": [
      "n*m*2^(n*m)=156*2^156=1.424964e+49\n"
     ]
    }
   ],
   "source": [
    "g1 = make_graph('calendar.yaml')\n",
    "g2 = make_graph('video-editor.yaml')\n",
    "n = len(g1.nodes)\n",
    "m = len(g2.nodes)\n",
    "print(f'n*m*2^(n*m)={n*m}*2^{n*m}={n*m*2**(n*m):e}')"
   ]
  },
  {
   "cell_type": "code",
   "execution_count": 27,
   "metadata": {},
   "outputs": [
    {
     "name": "stdout",
     "output_type": "stream",
     "text": [
      "WARNING: Resetting ID Gen, any previously generated ids are no longer meaningful.\n"
     ]
    }
   ],
   "source": [
    "reset_id_gen()\n",
    "# g1 = make_graph('test1.yaml')\n",
    "# g2 = make_graph('test1.yaml')\n",
    "g1 = make_graph('calendar.yaml')\n",
    "g2 = make_graph('video-editor.yaml')\n",
    "# get_etgms(g1, g2)"
   ]
  },
  {
   "cell_type": "code",
   "execution_count": null,
   "metadata": {},
   "outputs": [],
   "source": []
  },
  {
   "cell_type": "markdown",
   "metadata": {},
   "source": [
    "### ok what if i use itertools\n"
   ]
  },
  {
   "cell_type": "code",
   "execution_count": 28,
   "metadata": {},
   "outputs": [
    {
     "name": "stdout",
     "output_type": "stream",
     "text": [
      "{(1, 'a'),\n",
      " (1, 'b'),\n",
      " (1, 'c'),\n",
      " (2, 'a'),\n",
      " (2, 'b'),\n",
      " (2, 'c'),\n",
      " (3, 'a'),\n",
      " (3, 'b'),\n",
      " (3, 'c')}\n",
      "[(1, 'a'), (1, 'b'), (1, 'c'), (2, 'a'), (2, 'b'), (2, 'c')]\n"
     ]
    }
   ],
   "source": [
    "s1 = set({1,2,3})\n",
    "s2 = set({'a','b', 'c'})\n",
    "pprint(set(itertools.product(s1, s2)))\n",
    "\n",
    "s1 = set({1,2,3})\n",
    "s2 = set({'a','b', 'c'})\n",
    "pprint(list(itertools.product([1,2], ['a', 'b', 'c'])))"
   ]
  },
  {
   "cell_type": "code",
   "execution_count": 39,
   "metadata": {},
   "outputs": [
    {
     "data": {
      "text/plain": [
       "[[(1, 1), (2, 2), (3, 3)],\n",
       " [(1, 1), (2, 3), (3, 2)],\n",
       " [(1, 2), (2, 1), (3, 3)],\n",
       " [(1, 2), (2, 3), (3, 1)],\n",
       " [(1, 3), (2, 1), (3, 2)],\n",
       " [(1, 3), (2, 2), (3, 1)]]"
      ]
     },
     "execution_count": 39,
     "metadata": {},
     "output_type": "execute_result"
    }
   ],
   "source": [
    " \n",
    "# v good and smart\n",
    "\n",
    "# Returns\n",
    "# [\n",
    "#   [first pairing],\n",
    "#   [second pairing],\n",
    "#   ...\n",
    "# ]\n",
    "def list_pairings(s1: Set, s2: Set):\n",
    "  assert(len(s1) <= len(s2))\n",
    "\n",
    "  l1 = list(s1)\n",
    "  mappings = []\n",
    "  for subset_choice in itertools.combinations(s2, len(s1)):\n",
    "    # Pick a subset that you want to look at\n",
    "    for permutation in itertools.permutations(subset_choice):\n",
    "      # try all permutations of s2 against (static) s1\n",
    "      mappings.append(list(zip(l1, permutation)))\n",
    "  \n",
    "  return mappings\n",
    "\n",
    "def count_list_pairings(s1: Set, s2: Set):\n",
    "  assert(len(s1) <= len(s2))\n",
    "  return math.comb(len(s2), len(s1)) * math.perm(len(s1))\n",
    "\n",
    "\n",
    "list_pairings(s1, s1)\n"
   ]
  },
  {
   "cell_type": "code",
   "execution_count": 51,
   "metadata": {},
   "outputs": [
    {
     "name": "stdout",
     "output_type": "stream",
     "text": [
      "24\n",
      "24\n"
     ]
    }
   ],
   "source": [
    "s3 = set(range(4))\n",
    "print(len(list_pairings(s3, s3)))\n",
    "print(count_list_pairings(s3, s3))\n"
   ]
  },
  {
   "cell_type": "code",
   "execution_count": 71,
   "metadata": {},
   "outputs": [
    {
     "data": {
      "text/plain": [
       "[[]]"
      ]
     },
     "execution_count": 71,
     "metadata": {},
     "output_type": "execute_result"
    }
   ],
   "source": [
    "def subset_pairings(s1: Set, s2: Set, size):\n",
    "  l1 = list(s1)\n",
    "  l2 = list(s2)\n",
    "\n",
    "  assert(size <= len(l1) <= len(l2))\n",
    "\n",
    "  res = []\n",
    "  for subset1 in itertools.combinations(s1, size):\n",
    "    for subset2 in itertools.combinations(s2, size):\n",
    "      # Pick out a subset for s1 and s2, and list their pairings\n",
    "      # print(len(list_pairings(subset1, subset2)))\n",
    "      res += list_pairings(subset1, subset2)\n",
    "\n",
    "  return res\n",
    "\n",
    "def count_subset_pairings(s1, s2, size: int):\n",
    "  assert(size <= len(s1) <= len(s2))\n",
    "  new_s1_size = len(s1) - size\n",
    "  new_s2_size = len(s2) - size\n",
    "  print('new size', new_s1_size)\n",
    "  n1 = list(range(new_s1_size))\n",
    "  n2 = list(range(new_s2_size))\n",
    "  print(math.comb(len(s1), size))\n",
    "  print(math.comb(len(s2), size))\n",
    "  print(count_list_pairings(n1, n2))\n",
    "  print('TODO: I think this is wrong')\n",
    "  # return math.comb(len(s1), size) * math.comb(len(s2), size) * count_list_pairings(n1, n2)\n",
    "\n",
    "subset_pairings(s1, s2, 0)"
   ]
  },
  {
   "cell_type": "code",
   "execution_count": 70,
   "metadata": {},
   "outputs": [
    {
     "name": "stdout",
     "output_type": "stream",
     "text": [
      "input size:  3\n",
      "2\n",
      "2\n",
      "2\n",
      "2\n",
      "2\n",
      "2\n",
      "2\n",
      "2\n",
      "2\n",
      "res = 18\n",
      "new size 1\n",
      "3\n",
      "3\n",
      "1\n",
      "TODO: I think this is wrong\n",
      "res = None\n"
     ]
    }
   ],
   "source": [
    "# make a set \n",
    "sz = 2\n",
    "print('input size: ', len(s1))\n",
    "print('res = ' + str(len(subset_pairings(s1, s1, sz))))\n",
    "print('res = ' + str(count_subset_pairings(s1, s1, sz)))"
   ]
  },
  {
   "cell_type": "code",
   "execution_count": 25,
   "metadata": {},
   "outputs": [
    {
     "name": "stdout",
     "output_type": "stream",
     "text": [
      "size = 1\n",
      "[[(1, 'a')], [(1, 'b')], [(1, 'c')], [(2, 'a')], [(2, 'b')], [(2, 'c')], [(3, 'a')], [(3, 'b')], [(3, 'c')]]\n",
      "len = 9\n",
      "\n",
      "size = 2\n",
      "[[(1, 'a'), (2, 'b')], [(1, 'b'), (2, 'a')], [(1, 'a'), (2, 'c')], [(1, 'c'), (2, 'a')], [(1, 'b'), (2, 'c')], [(1, 'c'), (2, 'b')], [(1, 'a'), (3, 'b')], [(1, 'b'), (3, 'a')], [(1, 'a'), (3, 'c')], [(1, 'c'), (3, 'a')], [(1, 'b'), (3, 'c')], [(1, 'c'), (3, 'b')], [(2, 'a'), (3, 'b')], [(2, 'b'), (3, 'a')], [(2, 'a'), (3, 'c')], [(2, 'c'), (3, 'a')], [(2, 'b'), (3, 'c')], [(2, 'c'), (3, 'b')]]\n",
      "len = 18\n",
      "\n",
      "size = 3\n",
      "[[(1, 'a'), (2, 'b'), (3, 'c')], [(1, 'a'), (2, 'c'), (3, 'b')], [(1, 'b'), (2, 'a'), (3, 'c')], [(1, 'b'), (2, 'c'), (3, 'a')], [(1, 'c'), (2, 'a'), (3, 'b')], [(1, 'c'), (2, 'b'), (3, 'a')]]\n",
      "len = 6\n",
      "\n",
      "total: 33\n"
     ]
    }
   ],
   "source": [
    "def all_subset_pairings(s1: Set, s2: Set, verbose=False):\n",
    "  acc = []\n",
    "  for i in range(min(len(s1), len(s2))):\n",
    "    size = i + 1\n",
    "    inter_res = subset_pairings(s1, s2, size)\n",
    "    acc += inter_res\n",
    "\n",
    "    if verbose:\n",
    "      num_res = len(inter_res)\n",
    "      print(f'size = {size}')\n",
    "      print(inter_res)\n",
    "      print(f'len = {num_res}')\n",
    "      print()\n",
    "  return acc\n",
    "\n",
    "print('total: ' + str(len(all_subset_pairings(s1, s2, verbose=True))))\n"
   ]
  },
  {
   "cell_type": "code",
   "execution_count": null,
   "metadata": {},
   "outputs": [
    {
     "name": "stdout",
     "output_type": "stream",
     "text": [
      "Going up to size 12\n",
      "size = 1\n",
      "len = 156\n",
      "\n",
      "size = 2\n",
      "len = 10296\n",
      "\n",
      "size = 3\n",
      "len = 377520\n",
      "\n",
      "size = 4\n",
      "len = 8494200\n",
      "\n"
     ]
    }
   ],
   "source": [
    "def count_all_subset_pairings(s1, s2, verbose=False):\n",
    "  count = 0\n",
    "  max_size = min(len(s1), len(s2))\n",
    "  if verbose:\n",
    "    print(f'Going up to size {max_size}')\n",
    "  for i in range(max_size):\n",
    "    size = i + 1\n",
    "    inter_res = len(subset_pairings(s1, s2, size))\n",
    "    count += inter_res\n",
    "\n",
    "    if verbose:\n",
    "      print(f'size = {size}')\n",
    "      print(f'len = {inter_res}')\n",
    "      print()\n",
    "  return count\n",
    "\n",
    "count_all_subset_pairings(g1.nodes, g2.nodes, True)"
   ]
  },
  {
   "cell_type": "code",
   "execution_count": null,
   "metadata": {},
   "outputs": [],
   "source": [
    "all_subset_pairings(g1.nodes, g2.nodes)"
   ]
  },
  {
   "cell_type": "code",
   "execution_count": null,
   "metadata": {},
   "outputs": [],
   "source": [
    "\n",
    "# def direct_pairings(s1: Set, s2: Set, nest=0) -> List[List[Tuple[int, int]]]:\n",
    "#   sp = ' '*2*nest\n",
    "\n",
    "#   if len(s1) == 1:\n",
    "#     res = []\n",
    "#     x = list(s1)[0]\n",
    "#     for y in s2:\n",
    "#       res.append((x, y))\n",
    "\n",
    "#     print(sp + str([res]))\n",
    "#     return [res]\n",
    "\n",
    "#   res = []\n",
    "#   for x in s1:\n",
    "#     for y in s2:\n",
    "#       print(sp + f'pin ({x}, {y})')\n",
    "#       rec = direct_pairings(s1 - set({x}), s2 - set({y}), nest+1)\n",
    "#       # print(sp + str(rec))\n",
    "#       for new_mapping in rec:\n",
    "#         res.append([(x, y)] + new_mapping)\n",
    "#       # print(res[-1])\n",
    "#       print(sp+str(res))\n",
    "#       print()\n",
    "#     # print(sp + str(res))\n",
    "#   return res\n",
    "# ^ bad and dumb\n",
    "\n",
    "def len_subset_pairings(m: int, n: int, size=None) -> int:\n",
    "  if size is None:\n",
    "    size = min(m, n)\n",
    "  elif size == 0:\n",
    "    return 1\n",
    "  \n",
    "  return len_subset_pairings(m, n, size - 1) * (m-size+1) * (n-size+1)\n",
    "\n",
    "# def subset_pairings(s1: Set[int], s2: Set[int], size: int) -> List[Tuple[int, int]]:\n",
    "#   # enforce size <= len(m) <= len(n)\n",
    "#   if len(s1) <= len(s2):\n",
    "#     m, n = s1, s2\n",
    "#   else:\n",
    "#     m, n = s2, s1\n",
    "#   assert(size <= len(m))\n",
    "  \n",
    "#   # for each element of common subset of len=size...\n",
    "#   for i in range(size):\n",
    "#     # pick an item from s1...\n",
    "    "
   ]
  },
  {
   "cell_type": "code",
   "execution_count": 63,
   "metadata": {},
   "outputs": [
    {
     "name": "stdout",
     "output_type": "stream",
     "text": [
      "3\n",
      "2\n",
      "1\n"
     ]
    },
    {
     "data": {
      "text/plain": [
       "36"
      ]
     },
     "execution_count": 63,
     "metadata": {},
     "output_type": "execute_result"
    }
   ],
   "source": [
    "len_subset_pairings(len(s1), len(s2))"
   ]
  },
  {
   "cell_type": "code",
   "execution_count": 68,
   "metadata": {},
   "outputs": [
    {
     "name": "stdout",
     "output_type": "stream",
     "text": [
      "12\n",
      "11\n",
      "10\n",
      "9\n",
      "8\n",
      "7\n",
      "6\n",
      "5\n",
      "4\n",
      "3\n",
      "2\n",
      "1\n",
      "2.982753e+18\n"
     ]
    }
   ],
   "source": [
    "res = len_subset_pairings(len(g1.nodes), len(g2.nodes))\n",
    "print(f'{res:e}')"
   ]
  },
  {
   "cell_type": "markdown",
   "metadata": {},
   "source": [
    "# Ok new plan\n",
    "- construct graph with only structures as vertices\n",
    "  - actually use the type, which will be used when rating/ranking\n",
    "- add edges between structures \n",
    "  - if they have a relation (mapto, contrain/derive)\n",
    "  - if they both point to the same object, add an edge between them labeled with the object join"
   ]
  }
 ],
 "metadata": {
  "kernelspec": {
   "display_name": "venv",
   "language": "python",
   "name": "python3"
  },
  "language_info": {
   "codemirror_mode": {
    "name": "ipython",
    "version": 3
   },
   "file_extension": ".py",
   "mimetype": "text/x-python",
   "name": "python",
   "nbconvert_exporter": "python",
   "pygments_lexer": "ipython3",
   "version": "3.11.6"
  }
 },
 "nbformat": 4,
 "nbformat_minor": 2
}
